{
 "cells": [
  {
   "cell_type": "code",
   "execution_count": null,
   "id": "initial_id",
   "metadata": {
    "collapsed": true
   },
   "outputs": [],
   "source": [
    "import pandas as pd\n",
    "import numpy as np\n",
    "import warnings\n",
    "warnings.filterwarnings(\"ignore\")"
   ]
  },
  {
   "cell_type": "code",
   "outputs": [],
   "source": [
    "data = pd.read_csv(\"./Dataset/law.csv\")"
   ],
   "metadata": {
    "collapsed": false
   },
   "id": "268db59057f04d58"
  },
  {
   "cell_type": "code",
   "outputs": [],
   "source": [
    "from sklearn.preprocessing import StandardScaler\n",
    "scaler = StandardScaler()\n",
    "\n",
    "data[['LSAT', 'UGPA']] = scaler.fit_transform(data[['LSAT', 'UGPA']])"
   ],
   "metadata": {
    "collapsed": false
   },
   "id": "be2f188fc4b22e5e"
  },
  {
   "cell_type": "code",
   "outputs": [],
   "source": [
    "from sklearn.model_selection import train_test_split\n",
    "    \n",
    "train,test = train_test_split(data, test_size = 0.3, random_state = 0)"
   ],
   "metadata": {
    "collapsed": false
   },
   "id": "f80a9b283c6f44ba"
  },
  {
   "cell_type": "code",
   "outputs": [],
   "source": [
    "test_CT = test.copy()\n",
    "test_CT['gender'] = 1 - test_CT['gender']"
   ],
   "metadata": {
    "collapsed": false
   },
   "id": "3256a60911a6bb9e"
  },
  {
   "cell_type": "code",
   "outputs": [],
   "source": [
    "train.to_csv('./Dataset/law_train.csv', index=False)\n",
    "test.to_csv('./Dataset/law_test.csv', index=False)\n",
    "test_CT.to_csv('./Dataset/law_test_CT.csv', index=False)\n",
    "test.to_csv('./Dataset/law_test_index.csv', index=True)"
   ],
   "metadata": {
    "collapsed": false
   },
   "id": "cd211e63d57dcda6"
  },
  {
   "cell_type": "code",
   "outputs": [],
   "source": [
    "import h2o\n",
    "from h2o.automl import H2OAutoML\n",
    "\n",
    "h2o.init()\n",
    "\n",
    "train_all = h2o.upload_file(\"./Dataset/law_train.csv\")\n",
    "test_all = h2o.upload_file(\"./Dataset/law_test.csv\")\n",
    "test_all_CT = h2o.upload_file(\"./Dataset/law_test_CT.csv\")\n",
    "\n",
    "x = train_all.columns\n",
    "y = \"ZFYA\"\n",
    "x.remove(y)\n",
    "\n",
    "train_all[y] = train_all[y].asnumeric()\n",
    "test_all[y] = test_all[y].asnumeric()\n",
    "test_all_CT[y] = test_all_CT[y].asnumeric()\n",
    "\n",
    "aml_all = H2OAutoML(nfolds=10, max_models=20, seed=1, max_runtime_secs=120 ,include_algos = [\"GLM\", \"DeepLearning\", \"DRF\", \"GBM\", \"StackedEnsemble\"])\n",
    "aml_all.train(x=x, y=y, training_frame=train_all)\n",
    "\n",
    "lb_all = aml_all.leaderboard\n",
    "lb_all.head(rows=lb_all.nrows) "
   ],
   "metadata": {
    "collapsed": false
   },
   "id": "2550ee25032807e7"
  },
  {
   "cell_type": "code",
   "outputs": [],
   "source": [
    "h2o.export_file(lb_all, path = \"./leadboard_law_all.csv\", force = True)"
   ],
   "metadata": {
    "collapsed": false
   },
   "id": "6052fef1fc2dd3bf"
  },
  {
   "cell_type": "code",
   "outputs": [],
   "source": [
    "import pandas as pd\n",
    "\n",
    "file_path = './leadboard_law_all.csv'  \n",
    "data = pd.read_csv(file_path)\n",
    "\n",
    "# Extracting the first column which contains the model names\n",
    "model_names = data.iloc[:, 0].tolist()\n",
    "\n",
    "# Loop through each model name, retrieve the model, and save it\n",
    "for model_name in model_names:\n",
    "    model = h2o.get_model(model_name)\n",
    "    h2o.save_model(model=model, path=\"./Law_Model/\", force=True)\n",
    "    \n",
    "    preds = model.predict(test_all)\n",
    "    preds_CT = model.predict(test_all_CT)\n",
    "\n",
    "    h2o.export_file(preds, path = f\"./Law_Res/{model_name}.csv\", force = True)\n",
    "    h2o.export_file(preds_CT, path = f\"./Law_Res/{model_name}_CT.csv\", force = True)"
   ],
   "metadata": {
    "collapsed": false
   },
   "id": "3d3d2a3e4b834e52"
  },
  {
   "cell_type": "code",
   "outputs": [],
   "source": [
    "import pandas as pd\n",
    "\n",
    "CT_res_all = pd.DataFrame()\n",
    "\n",
    "import pandas as pd\n",
    "\n",
    "file_path = './leadboard_law_all.csv'  \n",
    "data = pd.read_csv(file_path)\n",
    "\n",
    "df = pd.read_csv('./Dataset/law_test_index.csv')\n",
    "first_column = df.iloc[:, 0]\n",
    "\n",
    "# Extracting the first column which contains the model names\n",
    "model_names = data.iloc[:, 0].tolist()\n",
    "\n",
    "# Loop through each model name, retrieve the model, and save it\n",
    "for model_name in model_names: \n",
    "    # Load the files\n",
    "    model_ct = pd.read_csv(f'./Law_Res/{model_name}_CT.csv')\n",
    "    model = pd.read_csv(f'./Law_Res/{model_name}.csv')\n",
    "    CT_res = abs((model['predict']-model_ct['predict'])/model['predict'])\n",
    "    CT_res_rounded = CT_res.round(5)\n",
    "    \n",
    "    CT_res_all[f'{model_name}'] = CT_res_rounded\n",
    "\n",
    "\n",
    "CT_res_all.insert(0, 'ID', first_column)\n",
    "\n",
    "output_path = './Law_Pij.csv'\n",
    "CT_res_all.to_csv(output_path, index=False)"
   ],
   "metadata": {
    "collapsed": false
   },
   "id": "c0a7182ff95dbfea"
  }
 ],
 "metadata": {
  "kernelspec": {
   "display_name": "Python 3",
   "language": "python",
   "name": "python3"
  },
  "language_info": {
   "codemirror_mode": {
    "name": "ipython",
    "version": 2
   },
   "file_extension": ".py",
   "mimetype": "text/x-python",
   "name": "python",
   "nbconvert_exporter": "python",
   "pygments_lexer": "ipython2",
   "version": "2.7.6"
  }
 },
 "nbformat": 4,
 "nbformat_minor": 5
}
